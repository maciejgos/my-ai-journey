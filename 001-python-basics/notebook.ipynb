{
 "cells": [
  {
   "cell_type": "markdown",
   "metadata": {},
   "source": [
    "# This is a some basics of Python"
   ]
  },
  {
   "cell_type": "markdown",
   "metadata": {},
   "source": [
    "## 1. Python types"
   ]
  },
  {
   "cell_type": "code",
   "execution_count": 1,
   "metadata": {},
   "outputs": [
    {
     "data": {
      "text/plain": [
       "str"
      ]
     },
     "execution_count": 1,
     "metadata": {},
     "output_type": "execute_result"
    }
   ],
   "source": [
    "type(\"Hello World\") # str\n",
    "type(17) # int\n",
    "type(3.2) # float\n",
    "type(\"17\") # str\n",
    "type(\"3.2\") # str\n",
    "type('This is a string.') # str"
   ]
  },
  {
   "cell_type": "markdown",
   "metadata": {},
   "source": [
    "## 2. String formating"
   ]
  },
  {
   "cell_type": "code",
   "execution_count": 2,
   "metadata": {},
   "outputs": [
    {
     "name": "stdout",
     "output_type": "stream",
     "text": [
      "Hello, Dave\n",
      "8\n",
      "$5.0\n",
      "1 0 0\n",
      "1000000\n",
      "83\n",
      "291\n"
     ]
    }
   ],
   "source": [
    "name = \"Dave\"\n",
    "print(f\"Hello, {name}\") # Hello, Dave\n",
    "\n",
    "print(5 + 3) # 8\n",
    "print(f\"${5.00}\") # $5.0\n",
    "\n",
    "print(1,000,000) # 1 0 0\n",
    "print(1_000_000) # 1000000\n",
    "print(0o123) # 83\n",
    "print(0x123) # 291"
   ]
  },
  {
   "cell_type": "markdown",
   "metadata": {},
   "source": [
    "## 3. Arrays, Tuples & Dictionaries"
   ]
  },
  {
   "cell_type": "markdown",
   "metadata": {},
   "source": [
    "### 1. Arrays"
   ]
  },
  {
   "cell_type": "code",
   "execution_count": 3,
   "metadata": {},
   "outputs": [
    {
     "name": "stdout",
     "output_type": "stream",
     "text": [
      "[1, 2, 3, 4, 5]\n",
      "1\n",
      "5\n",
      "[2, 3]\n",
      "[1, 2, 3]\n",
      "[2, 3, 4, 5]\n",
      "[1, 2, 3, 4, 5, 6]\n",
      "[0, 1, 2, 3, 4, 5, 6]\n",
      "[1, 2, 3, 4, 5, 6]\n",
      "[1, 2, 3, 4, 5]\n",
      "[2, 3, 4, 5]\n"
     ]
    }
   ],
   "source": [
    "# Arrays\n",
    "arr = [1, 2, 3, 4, 5]\n",
    "print(arr) # [1, 2, 3, 4, 5]\n",
    "print(arr[0]) # 1\n",
    "print(len(arr)) # 5\n",
    "\n",
    "# Slicing\n",
    "print(arr[1:3]) # [2, 3]\n",
    "print(arr[:3]) # [1, 2, 3]\n",
    "print(arr[1:]) # [2, 3, 4, 5]\n",
    "\n",
    "# Append\n",
    "arr.append(6)\n",
    "print(arr) # [1, 2, 3, 4, 5, 6]\n",
    "\n",
    "# Insert\n",
    "arr.insert(0, 0)\n",
    "print(arr) # [0, 1, 2, 3, 4, 5, 6]\n",
    "\n",
    "# Remove\n",
    "arr.remove(0)\n",
    "print(arr) # [1, 2, 3, 4, 5, 6]\n",
    "\n",
    "# Pop\n",
    "arr.pop()\n",
    "print(arr) # [1, 2, 3, 4, 5]\n",
    "\n",
    "# Pop at index\n",
    "arr.pop(0)\n",
    "print(arr) # [2, 3, 4, 5]\n",
    "\n",
    "# Clear\n",
    "arr.clear()"
   ]
  },
  {
   "cell_type": "markdown",
   "metadata": {},
   "source": [
    "### 2. Tuples"
   ]
  },
  {
   "cell_type": "code",
   "execution_count": 4,
   "metadata": {},
   "outputs": [
    {
     "name": "stdout",
     "output_type": "stream",
     "text": [
      "(1, 2, 3, 4, 5)\n",
      "1\n",
      "5\n"
     ]
    }
   ],
   "source": [
    "# Tuples\n",
    "tup = (1, 2, 3, 4, 5)\n",
    "print(tup) # (1, 2, 3, 4, 5)\n",
    "print(tup[0]) # 1\n",
    "print(len(tup)) # 5"
   ]
  },
  {
   "cell_type": "markdown",
   "metadata": {},
   "source": [
    "### 3. Sets"
   ]
  },
  {
   "cell_type": "code",
   "execution_count": 5,
   "metadata": {},
   "outputs": [
    {
     "name": "stdout",
     "output_type": "stream",
     "text": [
      "{1, 2, 3, 4, 5}\n",
      "True\n",
      "False\n"
     ]
    }
   ],
   "source": [
    "# Sets\n",
    "s = {1, 2, 3, 4, 5}\n",
    "print(s) # {1, 2, 3, 4, 5}\n",
    "print(1 in s) # True\n",
    "print(6 in s) # False"
   ]
  },
  {
   "cell_type": "markdown",
   "metadata": {},
   "source": [
    "### 4. Dictionaries"
   ]
  },
  {
   "cell_type": "code",
   "execution_count": 6,
   "metadata": {},
   "outputs": [
    {
     "name": "stdout",
     "output_type": "stream",
     "text": [
      "{'name': 'Dave', 'age': 30, 'city': 'New York'}\n",
      "Dave\n",
      "Dave\n",
      "None\n",
      "{'name': 'Dave', 'age': 30, 'city': 'New York', 'email': '[email protected]'}\n",
      "[email protected]\n",
      "{'name': 'Dave', 'age': 30, 'city': 'New York'}\n",
      "{}\n"
     ]
    }
   ],
   "source": [
    "# Dictionaries\n",
    "d = {\n",
    "    \"name\": \"Dave\",\n",
    "    \"age\": 30,\n",
    "    \"city\": \"New York\"\n",
    "}\n",
    "print(d) # {'name': 'Dave', 'age': 30, 'city': 'New York'}\n",
    "print(d[\"name\"]) # Dave\n",
    "print(d.get(\"name\")) # Dave\n",
    "print(d.get(\"email\")) # None\n",
    "\n",
    "# Add key-value pair\n",
    "d[\"email\"] = \"[email protected]\"\n",
    "print(d) # {'name': 'Dave', 'age': 30, 'city': 'New York', 'email': '[email protected]'}\n",
    "print(d.get(\"email\")) # [email protected]\n",
    "\n",
    "# Remove key-value pair\n",
    "d.pop(\"email\")\n",
    "print(d) # {'name': 'Dave', 'age': 30, 'city': 'New York'}\n",
    "\n",
    "# Clear\n",
    "d.clear()\n",
    "print(d) # {}"
   ]
  },
  {
   "cell_type": "markdown",
   "metadata": {},
   "source": [
    "## 4. Functions"
   ]
  },
  {
   "cell_type": "code",
   "execution_count": 1,
   "metadata": {},
   "outputs": [
    {
     "name": "stdout",
     "output_type": "stream",
     "text": [
      "Hello, Dave\n",
      "8\n",
      "Hello, Dave\n",
      "15\n",
      "{'name': 'Dave', 'age': 30, 'city': 'New York'}\n",
      "Hello, Dave\n",
      "(1, 2, 3)\n",
      "Dave\n",
      "{'age': 30, 'city': 'New York'}\n",
      "8\n",
      "[1, 4, 9, 16, 25]\n",
      "[2, 4]\n",
      "15\n",
      "[1, 4, 9, 16, 25]\n",
      "Hello from inner function\n",
      "Hello from inner function\n",
      "Hello\n"
     ]
    }
   ],
   "source": [
    "def greet(name):\n",
    "    print(f\"Hello, {name}\")\n",
    "\n",
    "greet(\"Dave\") # Hello, Dave\n",
    "\n",
    "def add(a, b):\n",
    "    return a + b\n",
    "\n",
    "print(add(5, 3)) # 8\n",
    "\n",
    "# Function with default parameter\n",
    "def greet(name=\"Dave\"):\n",
    "    print(f\"Hello, {name}\")\n",
    "\n",
    "greet() # Hello, Dave\n",
    "\n",
    "# Function with variable number of arguments\n",
    "def add(*args):\n",
    "    return sum(args)\n",
    "\n",
    "print(add(1, 2, 3, 4, 5)) # 15\n",
    "\n",
    "# Function with keyword arguments\n",
    "def person(**kwargs):\n",
    "    print(kwargs)\n",
    "\n",
    "person(name=\"Dave\", age=30, city=\"New York\") # {'name': 'Dave', 'age': 30, 'city': 'New York'}\n",
    "\n",
    "# Function with default parameter and variable number of arguments\n",
    "def greet(name=\"Dave\", *args):\n",
    "    print(f\"Hello, {name}\")\n",
    "    print(args)\n",
    "\n",
    "greet(\"Dave\", 1, 2, 3) # Hello, Dave (1, 2, 3)\n",
    "\n",
    "# Function with default parameter and keyword arguments\n",
    "def person(name=\"Dave\", **kwargs):\n",
    "    print(name)\n",
    "    print(kwargs)\n",
    "\n",
    "person(name=\"Dave\", age=30, city=\"New York\") # Dave {'age': 30, 'city': 'New York'}\n",
    "\n",
    "# Lambda function\n",
    "add = lambda a, b: a + b\n",
    "print(add(5, 3)) # 8\n",
    "\n",
    "# Map\n",
    "arr = [1, 2, 3, 4, 5]\n",
    "squared = list(map(lambda x: x ** 2, arr))\n",
    "print(squared) # [1, 4, 9, 16, 25]\n",
    "\n",
    "# Filter\n",
    "arr = [1, 2, 3, 4, 5]\n",
    "even = list(filter(lambda x: x % 2 == 0, arr))\n",
    "print(even) # [2, 4]\n",
    "\n",
    "# Reduce\n",
    "from functools import reduce\n",
    "arr = [1, 2, 3, 4, 5]\n",
    "sum = reduce(lambda x, y: x + y, arr)\n",
    "print(sum) # 15\n",
    "\n",
    "# List comprehension\n",
    "arr = [1, 2, 3, 4, 5]\n",
    "squared = [x ** 2 for x in arr]\n",
    "print(squared) # [1, 4, 9, 16, 25]\n",
    "\n",
    "# Function in function\n",
    "def outer():\n",
    "    def inner():\n",
    "        print(\"Hello from inner function\")\n",
    "    inner()\n",
    "\n",
    "outer() # Hello from inner function\n",
    "\n",
    "# Function returning function\n",
    "def outer():\n",
    "    def inner():\n",
    "        return \"Hello from inner function\"\n",
    "    return inner\n",
    "\n",
    "f = outer()\n",
    "print(f()) # Hello from inner function\n",
    "\n",
    "# Function as argument\n",
    "def greet():\n",
    "    return \"Hello\"\n",
    "\n",
    "def welcome(func):\n",
    "    return func()\n",
    "\n",
    "print(welcome(greet)) # Hello"
   ]
  },
  {
   "cell_type": "markdown",
   "metadata": {},
   "source": [
    "## 5. Conditions and Loops"
   ]
  },
  {
   "cell_type": "markdown",
   "metadata": {},
   "source": [
    "### 1. Conditional Statements"
   ]
  },
  {
   "cell_type": "code",
   "execution_count": null,
   "metadata": {},
   "outputs": [],
   "source": [
    "# Conditional statements\n",
    "age = 30\n",
    "\n",
    "if age < 18:\n",
    "    print(\"You are a minor\")\n",
    "elif age >= 18 and age < 65:\n",
    "    print(\"You are an adult\")\n",
    "else:\n",
    "    print(\"You are a senior\")\n"
   ]
  },
  {
   "cell_type": "markdown",
   "metadata": {},
   "source": [
    "### 2. Loops"
   ]
  },
  {
   "cell_type": "code",
   "execution_count": null,
   "metadata": {},
   "outputs": [],
   "source": [
    "# Loops\n",
    "arr = [1, 2, 3, 4, 5]\n",
    "\n",
    "# For loop\n",
    "for x in arr:\n",
    "    print(x)\n",
    "\n",
    "# While loop\n",
    "i = 0\n",
    "while i < 5:\n",
    "    print(i)\n",
    "    i += 1\n",
    "\n",
    "# Break\n",
    "for x in arr:\n",
    "    if x == 3:\n",
    "        break\n",
    "    print(x)\n",
    "\n",
    "# Continue\n",
    "for x in arr:\n",
    "    if x == 3:\n",
    "        continue\n",
    "    print(x)\n",
    "\n",
    "# Range\n",
    "for x in range(5):\n",
    "    print(x)\n",
    "\n",
    "# Range with start and end\n",
    "for x in range(2, 5):\n",
    "    print(x)\n",
    "\n",
    "# Range with start, end and step\n",
    "for x in range(2, 10, 2):\n",
    "    print(x)\n",
    "\n",
    "# Enumerate\n",
    "for i, x in enumerate(arr):\n",
    "    print(i, x)\n",
    "\n",
    "# Zip\n",
    "names = [\"Dave\", \"John\", \"Mike\"]\n",
    "ages = [30, 25, 35]\n",
    "\n",
    "for name, age in zip(names, ages):\n",
    "    print(name, age)"
   ]
  }
 ],
 "metadata": {
  "kernelspec": {
   "display_name": "Python 3",
   "language": "python",
   "name": "python3"
  },
  "language_info": {
   "codemirror_mode": {
    "name": "ipython",
    "version": 3
   },
   "file_extension": ".py",
   "mimetype": "text/x-python",
   "name": "python",
   "nbconvert_exporter": "python",
   "pygments_lexer": "ipython3",
   "version": "3.12.1"
  }
 },
 "nbformat": 4,
 "nbformat_minor": 2
}
