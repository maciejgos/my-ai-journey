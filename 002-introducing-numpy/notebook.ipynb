{
 "cells": [
  {
   "cell_type": "markdown",
   "metadata": {},
   "source": [
    "# Introduction of NumPy library"
   ]
  },
  {
   "cell_type": "markdown",
   "metadata": {},
   "source": [
    "## Mean, Median & Mode"
   ]
  },
  {
   "cell_type": "markdown",
   "metadata": {},
   "source": [
    "### Let's create some random income data"
   ]
  },
  {
   "cell_type": "code",
   "execution_count": null,
   "metadata": {},
   "outputs": [],
   "source": [
    "# Ensure numpy is installed\n",
    "!pip install numpy\n",
    "!pip install scipy\n",
    "\n",
    "import numpy as np\n",
    "from scipy import stats\n",
    "\n",
    "# Random array with income values and age values\n",
    "income = np.random.randint(10000, 100000, 100)\n",
    "age = np.random.randint(20, 65, 100)"
   ]
  },
  {
   "cell_type": "markdown",
   "metadata": {},
   "source": [
    "Now let's combine data from both sources"
   ]
  },
  {
   "cell_type": "code",
   "execution_count": 5,
   "metadata": {},
   "outputs": [],
   "source": [
    "# Combine income and age into a single multidimensional array\n",
    "data = np.column_stack((income, age))"
   ]
  },
  {
   "cell_type": "markdown",
   "metadata": {},
   "source": [
    "Now let's use some statistics"
   ]
  },
  {
   "cell_type": "code",
   "execution_count": null,
   "metadata": {},
   "outputs": [],
   "source": [
    "# Calculate statistics for each column\n",
    "mean_income = np.mean(data[:, 0])\n",
    "mean_age = np.mean(data[:, 1])\n",
    "median_income = np.median(data[:, 0])\n",
    "median_age = np.median(data[:, 1])\n",
    "std_dev_income = np.std(data[:, 0])\n",
    "std_dev_age = np.std(data[:, 1])\n",
    "variance_income = np.var(data[:, 0])\n",
    "variance_age = np.var(data[:, 1])\n",
    "max_value_income = np.max(data[:, 0])\n",
    "max_value_age = np.max(data[:, 1])\n",
    "min_value_income = np.min(data[:, 0])\n",
    "min_value_age = np.min(data[:, 1])\n",
    "mode_income = stats.mode(data[:, 0])\n",
    "mode_age = stats.mode(data[:, 1])\n",
    "\n",
    "# Print the results\n",
    "print(\"Mean of the income is: \", mean_income)\n",
    "print(\"Mean of the age is: \", mean_age)\n",
    "print(\"Median of the income is: \", median_income)\n",
    "print(\"Median of the age is: \", median_age)\n",
    "print(\"Standard deviation of the income is: \", std_dev_income)\n",
    "print(\"Standard deviation of the age is: \", std_dev_age)\n",
    "print(\"Variance of the income is: \", variance_income)\n",
    "print(\"Variance of the age is: \", variance_age)\n",
    "print(\"Maximum value of the income is: \", max_value_income)\n",
    "print(\"Maximum value of the age is: \", max_value_age)\n",
    "print(\"Minimum value of the income is: \", min_value_income)\n",
    "print(\"Minimum value of the age is: \", min_value_age)\n",
    "print(\"Mode of the income is: \", mode_income)\n",
    "print(\"Mode of the age is: \", mode_age)"
   ]
  }
 ],
 "metadata": {
  "kernelspec": {
   "display_name": "Python 3",
   "language": "python",
   "name": "python3"
  },
  "language_info": {
   "codemirror_mode": {
    "name": "ipython",
    "version": 3
   },
   "file_extension": ".py",
   "mimetype": "text/x-python",
   "name": "python",
   "nbconvert_exporter": "python",
   "pygments_lexer": "ipython3",
   "version": "3.12.7"
  }
 },
 "nbformat": 4,
 "nbformat_minor": 2
}
